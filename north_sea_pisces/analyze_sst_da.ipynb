{
 "cells": [
  {
   "cell_type": "code",
   "execution_count": null,
   "metadata": {
    "tags": []
   },
   "outputs": [],
   "source": [
    "# Imports from standard library\n",
    "import os.path\n",
    "import datetime\n",
    "import warnings\n",
    "warnings.filterwarnings('ignore')\n",
    "\n",
    "# Import of third party packages\n",
    "import numpy as np\n",
    "import netCDF4\n",
    "%matplotlib widget\n",
    "from matplotlib import pyplot\n",
    "from matplotlib import dates\n",
    "\n",
    "# Configuration\n",
    "setup_dir = \".\"           # directory with GOTM model setup\n",
    "ensemble_dir = \".\"        # directory with GOTM model setup\n",
    "varname = \"temp\"          # name of model variable to plot\n",
    "N = 20                    # ensemble size\n",
    "max_temp_diff = 2.0       # maximum difference (°C) to show in contour plot\n",
    "cmap = 'viridis'          # color map to use for filled contour plots [alternative: cmocean.cm.thermal]"
   ]
  },
  {
   "cell_type": "code",
   "execution_count": null,
   "metadata": {},
   "outputs": [],
   "source": [
    "# Read satellite observations of sea surface temperature\n",
    "with open(os.path.join(setup_dir, 'cci_sst.dat')) as f:\n",
    "    obs = [line.rstrip().split('\\t') for line in f if not line.startswith('#')]\n",
    "obs_times = dates.date2num([datetime.datetime.strptime(o[0], '%Y-%m-%d %H:%M:%S') for o in obs])\n",
    "obs_values = np.array([o[1] for o in obs], dtype=float)"
   ]
  },
  {
   "attachments": {},
   "cell_type": "markdown",
   "metadata": {},
   "source": [
    "## Plot reference GOTM results\n",
    "\n",
    "Forecast-only, no data assimilation"
   ]
  },
  {
   "cell_type": "code",
   "execution_count": null,
   "metadata": {},
   "outputs": [],
   "source": [
    "nc = netCDF4.Dataset(os.path.join(setup_dir, 'result.nc'))\n",
    "\n",
    "# Read model temperature and coordinates\n",
    "time = netCDF4.num2date(nc['time'], nc['time'].units)\n",
    "mpltime = dates.date2num(time)\n",
    "z = -nc['z'][:, :, 0, 0]\n",
    "ncvar = nc[varname]\n",
    "temp = ncvar[:, :, 0, 0]\n",
    "sst = temp[:, -1]\n",
    "\n",
    "fig, ((ax1, cax1), (ax2, cax2)) = pyplot.subplots(figsize=(8,6), nrows=2, ncols=2, width_ratios=[0.95, 0.05], sharex='col')\n",
    "\n",
    "# Plot modelled and observed sea surface temperature\n",
    "ax1.plot_date(obs_times, obs_values, '.k', alpha=0.4, label='satellite')\n",
    "ax1.plot_date(mpltime, sst, '-', label='model')\n",
    "ax1.set_xlim(mpltime[0], mpltime[-1])\n",
    "ax1.set_ylabel('temperature (°C)')\n",
    "ax1.grid()\n",
    "ax1.legend()\n",
    "ax1.set_title('sea surface temperature')\n",
    "cax1.axis('off')\n",
    "\n",
    "# Plot modelled temperature throughout the water column\n",
    "mpltime_2d = np.broadcast_to(mpltime[:, np.newaxis], z.shape)\n",
    "pc = ax2.contourf(mpltime_2d, z, temp, 10, cmap=cmap)\n",
    "cb = fig.colorbar(pc, cax=cax2)\n",
    "cb.set_label('temperature (°C)')\n",
    "ax2.set_ylabel('depth (m)')\n",
    "ax2.set_title('model temperature')\n",
    "ax2.grid()\n",
    "ax2.xaxis.axis_date()\n",
    "ax2.set_ylim(z.max(), z.min())\n",
    "\n",
    "fig.tight_layout()"
   ]
  },
  {
   "attachments": {},
   "cell_type": "markdown",
   "metadata": {
    "tags": []
   },
   "source": [
    "# Impact of data assimilation"
   ]
  },
  {
   "cell_type": "code",
   "execution_count": null,
   "metadata": {},
   "outputs": [],
   "source": [
    "# Open NetCDF output of all ensemble members\\n\",\n",
    "ncs = [netCDF4.Dataset(os.path.join(ensemble_dir, 'result_%04i.nc' % (i + 1))) for i in range(N)]\n",
    "\n",
    "# Read model temperature and coordinates\\n\",\n",
    "enstime = netCDF4.num2date(ncs[0]['time'], ncs[0]['time'].units)\n",
    "ensmpltime = dates.date2num(enstime)\n",
    "z = -ncs[0].variables['z'][:, :, 0, 0]\n",
    "temps = [nc[varname][:, :, 0, 0] for nc in ncs]\n",
    "ssts = [temp[:, -1] for temp in temps]"
   ]
  },
  {
   "cell_type": "code",
   "execution_count": null,
   "metadata": {},
   "outputs": [],
   "source": [
    "# Plot ensemble mean sea surface temperature, along with original (no DA) result and observations\n",
    "fig, ((ax1, cax1), (ax2, cax2), (ax3, cax3)) = pyplot.subplots(figsize=(8,8), nrows=3, ncols=2, width_ratios=[0.95, 0.05], sharex='col')\n",
    "ax1.plot_date(obs_times, obs_values, '.k', alpha=0.4, label='satellite')\n",
    "ax1.plot_date(time, sst, '-', label='model, no DA')\n",
    "ax1.plot_date(enstime, np.mean(ssts, axis=0), '-', label='model, DA')\n",
    "ax1.set_xlim(time[0], time[-1])\n",
    "#ax1.set_xlim(datetime.datetime(2021,1,1), time[-1])\n",
    "ax1.set_ylabel('temperature (°C)')\n",
    "ax1.grid()\n",
    "ax1.legend(loc=(0.25, 0.65))\n",
    "ax1.set_title('sea surface temperature')\n",
    "cax1.axis('off')\n",
    "\n",
    "ensmean = np.mean(temps, axis=0)\n",
    "pc = ax2.contourf(mpltime_2d, z, ensmean, 10, cmap=cmap)\n",
    "cb = fig.colorbar(pc, cax=cax2)\n",
    "cb.set_label('temperature (°C)')\n",
    "ax2.set_ylabel('depth (m)')\n",
    "ax2.set_title('temperature (with DA)');\n",
    "ax2.grid()\n",
    "ax2.xaxis.axis_date()\n",
    "ax2.set_ylim(z.max(), z.min())\n",
    "\n",
    "temp_diff = np.mean(temps, axis=0) - temp[-enstime.size:, :]\n",
    "contours = np.linspace(-max_temp_diff, max_temp_diff, 21)\n",
    "pc = ax3.contourf(mpltime_2d, z, temp_diff, cmap='RdBu_r', levels=contours, extend='both')\n",
    "cb = fig.colorbar(pc, cax=cax3)\n",
    "cb.set_label('temperature difference (°C)')\n",
    "ax3.set_ylabel('depth (m)')\n",
    "ax3.set_title('temperature difference (DA - no DA)');\n",
    "ax3.grid()\n",
    "ax3.xaxis.axis_date()\n",
    "ax3.set_ylim(z.max(), z.min())\n",
    "\n",
    "fig.tight_layout()\n"
   ]
  }
 ],
 "metadata": {
  "kernelspec": {
   "display_name": "Python 3 (ipykernel)",
   "language": "python",
   "name": "python3"
  },
  "language_info": {
   "codemirror_mode": {
    "name": "ipython",
    "version": 3
   },
   "file_extension": ".py",
   "mimetype": "text/x-python",
   "name": "python",
   "nbconvert_exporter": "python",
   "pygments_lexer": "ipython3",
   "version": "3.8.16"
  },
  "vscode": {
   "interpreter": {
    "hash": "e4cce46d6be9934fbd27f9ca0432556941ea5bdf741d4f4d64c6cd7f8dfa8fba"
   }
  }
 },
 "nbformat": 4,
 "nbformat_minor": 4
}
